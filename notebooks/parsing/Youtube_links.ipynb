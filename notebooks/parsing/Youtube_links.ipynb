{
 "cells": [
  {
   "cell_type": "code",
   "execution_count": null,
   "metadata": {},
   "outputs": [],
   "source": [
    "import os\n",
    "from dotenv import load_dotenv\n",
    "load_dotenv()\n",
    "API_KEY = os.getenv('API_KEY')"
   ]
  },
  {
   "cell_type": "code",
   "execution_count": null,
   "metadata": {},
   "outputs": [],
   "source": [
    "CHANNEL_NAME = 'VOGinfo'\n",
    "CHANNEL_ID = 'UCoA3JvRkP1z3GE6x5jo6OzA'"
   ]
  },
  {
   "cell_type": "code",
   "execution_count": null,
   "metadata": {},
   "outputs": [],
   "source": [
    "import urllib.request\n",
    "import json\n",
    "import time\n",
    "\n",
    "def get_all_video_in_channel(channel_id):\n",
    "    api_key = API_KEY\n",
    "\n",
    "    base_video_url = 'https://www.youtube.com/watch?v='\n",
    "    base_search_url = 'https://www.googleapis.com/youtube/v3/search?'\n",
    "\n",
    "    first_url = base_search_url+'key={}&channelId={}&part=snippet,id&order=date&maxResults=30'.format(api_key, channel_id)\n",
    "\n",
    "    video_links = []\n",
    "    url = first_url\n",
    "    \n",
    "    while True:\n",
    "        time.sleep(10)\n",
    "        inp = urllib.request.urlopen(url)\n",
    "        resp = json.load(inp)\n",
    "\n",
    "        for i in resp['items']:\n",
    "            if i['id']['kind'] == \"youtube#video\":\n",
    "                video_links.append(base_video_url + i['id']['videoId'])\n",
    "\n",
    "        with open('voginfo_links.json', 'w', encoding='utf-8') as f:\n",
    "            json.dump(video_links, f, ensure_ascii=False, indent=3)\n",
    "\n",
    "        try:\n",
    "            next_page_token = resp['nextPageToken']\n",
    "            print(resp['nextPageToken'])\n",
    "            url = first_url + '&pageToken={}'.format(next_page_token)\n",
    "        except:\n",
    "            print(resp['nextPageToken'])\n",
    "            print('the end')\n",
    "            break\n",
    "    return video_links"
   ]
  },
  {
   "cell_type": "code",
   "execution_count": null,
   "metadata": {},
   "outputs": [],
   "source": [
    "get_all_video_in_channel(CHANNEL_ID)"
   ]
  }
 ],
 "metadata": {
  "kernelspec": {
   "display_name": "Python 3",
   "language": "python",
   "name": "python3"
  },
  "language_info": {
   "codemirror_mode": {
    "name": "ipython",
    "version": 3
   },
   "file_extension": ".py",
   "mimetype": "text/x-python",
   "name": "python",
   "nbconvert_exporter": "python",
   "pygments_lexer": "ipython3",
   "version": "3.10.11"
  }
 },
 "nbformat": 4,
 "nbformat_minor": 2
}
