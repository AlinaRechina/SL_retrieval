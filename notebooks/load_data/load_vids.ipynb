{
 "cells": [
  {
   "cell_type": "code",
   "execution_count": 1,
   "id": "73d233a9",
   "metadata": {},
   "outputs": [],
   "source": [
    "from pytubefix import YouTube\n",
    "from pathlib import Path\n",
    "import asyncio\n",
    "import json\n",
    "import ffmpeg\n",
    "import logging\n",
    "\n",
    "logging.basicConfig(filename='logs.log', encoding='utf-8', level=logging.DEBUG)\n",
    "logger = logging.getLogger(__name__)"
   ]
  },
  {
   "cell_type": "code",
   "execution_count": 2,
   "id": "5c8fc6d3",
   "metadata": {},
   "outputs": [],
   "source": [
    "links = json.load(Path('voginfo_links_parsed.json').open(encoding='utf-8'))\n",
    "if Path('done.json').exists():\n",
    "    done = json.load(Path('done.json').open(encoding='utf-8'))\n",
    "else:\n",
    "    done = []\n",
    "    \n",
    "path = 'D:/YandexDisk/SLR Project'"
   ]
  },
  {
   "cell_type": "code",
   "execution_count": 3,
   "id": "91c6931a",
   "metadata": {},
   "outputs": [],
   "source": [
    "def clear_path():\n",
    "    i = 0\n",
    "    for fpath in Path(path).iterdir():\n",
    "        if int(ffmpeg.probe(fpath)['format']['bit_rate']) < 5e5:\n",
    "            fpath.unlink()\n",
    "            i += 1\n",
    "    for fpath in Path(path).iterdir():\n",
    "        if fpath.stem.endswith(' (2)'):\n",
    "            fpath.rename(fpath.with_stem(fpath.stem.rstrip(' (2)')))\n",
    "            i += 1\n",
    "    print(i)"
   ]
  },
  {
   "cell_type": "code",
   "execution_count": 4,
   "id": "7c4b7873",
   "metadata": {
    "scrolled": true
   },
   "outputs": [],
   "source": [
    "def download_vid(link):\n",
    "    vid = YouTube(link, use_po_token=True)\n",
    "    \n",
    "    path = 'D:/YandexDisk/SLR Project'\n",
    "    downloaded = [f.stem for f in Path(path).iterdir()]\n",
    "    \n",
    "    try:\n",
    "        if vid.title in downloaded:\n",
    "            logger.info(f'NOTE video {link} is already downloaded')\n",
    "            done.append(link)\n",
    "        else:\n",
    "            streams = vid.streams\n",
    "            quality = streams.filter(res='720p') or streams.filter(res='480p') or streams.filter(res='1080p') \\\n",
    "                        or streams.filter(res='360p')\n",
    "            target = quality[0].download(output_path=path)\n",
    "            logger.info(f'SUCCESS video {link} was downloaded to {target}')\n",
    "            done.append(link)\n",
    "    except Exception as e:\n",
    "        logger.error(f'with video {link}: {e}')\n",
    "         # download_vid(link)"
   ]
  },
  {
   "cell_type": "code",
   "execution_count": 5,
   "id": "8cbbad7b",
   "metadata": {},
   "outputs": [],
   "source": [
    "for link in links[::-1]:\n",
    "    if link in done:\n",
    "        continue\n",
    "    download_vid(link)\n",
    "    with open('done.json', 'w', encoding='utf-8') as f:\n",
    "        json.dump(done, f, indent=4)"
   ]
  },
  {
   "cell_type": "code",
   "execution_count": null,
   "id": "e113ce4e",
   "metadata": {},
   "outputs": [],
   "source": []
  }
 ],
 "metadata": {
  "kernelspec": {
   "display_name": "Python 3 (ipykernel)",
   "language": "python",
   "name": "python3"
  },
  "language_info": {
   "codemirror_mode": {
    "name": "ipython",
    "version": 3
   },
   "file_extension": ".py",
   "mimetype": "text/x-python",
   "name": "python",
   "nbconvert_exporter": "python",
   "pygments_lexer": "ipython3",
   "version": "3.11.5"
  }
 },
 "nbformat": 4,
 "nbformat_minor": 5
}
