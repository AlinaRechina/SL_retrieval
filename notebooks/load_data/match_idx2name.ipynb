{
 "cells": [
  {
   "cell_type": "code",
   "execution_count": 2,
   "id": "3a1601ed",
   "metadata": {},
   "outputs": [],
   "source": [
    "from pytubefix import YouTube\n",
    "from pathlib import Path\n",
    "import json\n",
    "import logging\n",
    "\n",
    "logging.basicConfig(filename='logs_matching.log', encoding='utf-8', level=logging.DEBUG)\n",
    "logger = logging.getLogger(__name__)"
   ]
  },
  {
   "cell_type": "code",
   "execution_count": null,
   "id": "14e44319",
   "metadata": {},
   "outputs": [],
   "source": [
    "id2name = {}\n",
    "links = json.load(Path('voginfo_links_parsed.json').open(encoding='utf-8'))"
   ]
  },
  {
   "cell_type": "code",
   "execution_count": 11,
   "id": "e697b51d",
   "metadata": {},
   "outputs": [],
   "source": [
    "for link in links:\n",
    "    if link.split('?v=')[-1] in id2name:\n",
    "        continue\n",
    "    vid = YouTube(link, use_po_token=True)\n",
    "    id2name[vid.video_id] = vid.title"
   ]
  },
  {
   "cell_type": "code",
   "execution_count": 13,
   "id": "9e7bff84",
   "metadata": {},
   "outputs": [],
   "source": [
    "json.dump(id2name, Path('id2name.json').open('w', encoding='utf-8'), ensure_ascii=False, indent=4)"
   ]
  },
  {
   "cell_type": "code",
   "execution_count": null,
   "id": "d012783a",
   "metadata": {},
   "outputs": [],
   "source": []
  }
 ],
 "metadata": {
  "kernelspec": {
   "display_name": "Python 3 (ipykernel)",
   "language": "python",
   "name": "python3"
  },
  "language_info": {
   "codemirror_mode": {
    "name": "ipython",
    "version": 3
   },
   "file_extension": ".py",
   "mimetype": "text/x-python",
   "name": "python",
   "nbconvert_exporter": "python",
   "pygments_lexer": "ipython3",
   "version": "3.11.5"
  }
 },
 "nbformat": 4,
 "nbformat_minor": 5
}
