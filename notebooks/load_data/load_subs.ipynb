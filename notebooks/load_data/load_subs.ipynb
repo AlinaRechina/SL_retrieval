{
 "cells": [
  {
   "cell_type": "code",
   "execution_count": 1,
   "id": "c5744b83",
   "metadata": {},
   "outputs": [],
   "source": [
    "from youtube_transcript_api import YouTubeTranscriptApi\n",
    "from pathlib import Path\n",
    "import json\n",
    "import logging\n",
    "\n",
    "logging.basicConfig(filename='logs_sub.log', encoding='utf-8', level=logging.DEBUG)\n",
    "logger = logging.getLogger(__name__)"
   ]
  },
  {
   "cell_type": "code",
   "execution_count": 2,
   "id": "6501664a",
   "metadata": {},
   "outputs": [],
   "source": [
    "path = Path('D:/YandexDisk/SLR Project_subs')\n",
    "done = [filepath.stem for filepath in path.iterdir()]\n",
    "links = json.load(Path('voginfo_links_parsed.json').open(encoding='utf-8'))"
   ]
  },
  {
   "cell_type": "code",
   "execution_count": 3,
   "id": "49ae4b95",
   "metadata": {},
   "outputs": [],
   "source": [
    "for link in links:\n",
    "    vid_id = link.split('?v=')[-1]\n",
    "    if vid_id not in done:\n",
    "        try:\n",
    "            sub_dict = YouTubeTranscriptApi.get_transcript(vid_id, languages=('ru',))\n",
    "            target = path.joinpath(vid_id + '.json')\n",
    "            json.dump(\n",
    "                sub_dict, \n",
    "                target.open('w', encoding='utf-8'), \n",
    "                ensure_ascii=False,\n",
    "                indent=4\n",
    "            )\n",
    "            logger.info(f'SUCCESS video {vid_id} was downloaded to {str(target)}')\n",
    "        except Exception as e:\n",
    "            logger.error(f'with video {vid_id}: {e}')"
   ]
  },
  {
   "cell_type": "code",
   "execution_count": null,
   "id": "743688f1",
   "metadata": {},
   "outputs": [],
   "source": []
  }
 ],
 "metadata": {
  "kernelspec": {
   "display_name": "Python 3 (ipykernel)",
   "language": "python",
   "name": "python3"
  },
  "language_info": {
   "codemirror_mode": {
    "name": "ipython",
    "version": 3
   },
   "file_extension": ".py",
   "mimetype": "text/x-python",
   "name": "python",
   "nbconvert_exporter": "python",
   "pygments_lexer": "ipython3",
   "version": "3.11.5"
  }
 },
 "nbformat": 4,
 "nbformat_minor": 5
}
