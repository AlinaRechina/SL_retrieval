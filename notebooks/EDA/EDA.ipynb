{
 "cells": [
  {
   "cell_type": "markdown",
   "metadata": {},
   "source": [
    "### Считывание данных"
   ]
  },
  {
   "cell_type": "code",
   "execution_count": 10,
   "metadata": {},
   "outputs": [],
   "source": [
    "import yadisk # https://pypi.org/project/yadisk/\n",
    "import os\n",
    "import httpx\n",
    "from dotenv import load_dotenv"
   ]
  },
  {
   "cell_type": "code",
   "execution_count": 2,
   "metadata": {},
   "outputs": [],
   "source": [
    "load_dotenv()\n",
    "TOKEN = os.getenv('DEBUG_TOKEN')"
   ]
  },
  {
   "cell_type": "code",
   "execution_count": 3,
   "metadata": {},
   "outputs": [],
   "source": [
    "client = yadisk.Client(token=TOKEN)"
   ]
  },
  {
   "cell_type": "code",
   "execution_count": 15,
   "metadata": {},
   "outputs": [
    {
     "name": "stdout",
     "output_type": "stream",
     "text": [
      "True\n",
      "370\n"
     ]
    }
   ],
   "source": [
    "with client:\n",
    "    # Проверяет, валиден ли токен\n",
    "    print(client.check_token())\n",
    "\n",
    "    # Выводит содержимое \"disk:/SLR Project\"\n",
    "    files = list(client.listdir(\"disk:/SLR Project\"))\n",
    "    print(len(files))"
   ]
  },
  {
   "cell_type": "markdown",
   "metadata": {},
   "source": [
    "### Получим базовое представление о датасете"
   ]
  },
  {
   "cell_type": "code",
   "execution_count": 19,
   "metadata": {},
   "outputs": [
    {
     "data": {
      "text/plain": [
       "<SyncResourceObject{'antivirus_status': 'clean', 'file': 'https://downloader.disk.yandex.ru/disk/9f82fac28e5389083bbe1c5e95b10239e33448b558f1cb3394a21062ecb89fef/6726b4c1/coZdVrom3SVDBmKpHCqXcKWSlinjDe-7NQmwqvnVD-ooAPxLmJoH_LdJWKBPnZgSdTfuyQNxtKdA1WdsbjY2GQ%3D%3D?uid=1627832421&filename=%23%D0%A3%D0%A1%D0%9B%D0%AB%D0%A8%D0%AC%D0%9C%D0%95%D0%9D%D0%AF%20%D0%93%D0%BB%D1%83%D1%85%D0%B0%D1%8F%20%D0%9C%D0%BE%D1%81%D0%BA%D0%B2%D0%B0.%20%D0%A1%20%D1%81%D1%83%D0%B1%D1%82%D0%B8%D1%82%D1%80%D0%B0%D0%BC%D0%B8.mp4&disposition=attachment&hash=&limit=0&content_type=video%2Fmp4&owner_uid=1627832421&fsize=44299500&hid=ea01fa8cb9fa21f738ebba19de20352b&media_type=video&tknv=v2&etag=79d41eda029f11270506034a293d7ef7', 'size': 44299500, 'public_key': None, 'sha256': '34120c9f4351a6425c75696d70f6fed793ab74719f8d5c014a9bdfa1a291e35a', 'embedded': None, 'name': '#УСЛЫШЬМЕНЯ Глухая Москва. С субтитрами.mp4', 'exif': <EXIFObject{'date_time': datetime.datetime(2023, 4, 29, 16, 18, 1, tzinfo=datetime.timezone.utc), 'gps_longitude': None, 'gps_latitude': None}>, 'resource_id': '388729034:48b6e76c909e31a9a7ee0c4370742f077d496cfa2fd5fb67dd2550a4e63cf6a1', 'custom_properties': None, 'public_url': None, 'share': <ShareInfoObject{'is_root': False, 'is_owned': False, 'rights': 'r'}>, 'modified': datetime.datetime(2024, 10, 29, 6, 7, 29, tzinfo=datetime.timezone.utc), 'created': datetime.datetime(2024, 10, 29, 6, 7, 29, tzinfo=datetime.timezone.utc), 'photoslice_time': datetime.datetime(2023, 4, 29, 16, 18, 1, tzinfo=datetime.timezone.utc), 'mime_type': 'video/mp4', 'path': 'disk:/SLR Project/#УСЛЫШЬМЕНЯ Глухая Москва. С субтитрами.mp4', 'preview': 'https://downloader.disk.yandex.ru/preview/781c5ec301620c6d57660c279392a0e1caef553f96db79030d440b190cc6e0ad/inf/HgMa6wwegySt4NcQa82JzZGfCXcTRYsn4GgHVC_eq_3iNsoczWGe18Eo8pWFAe7m_nxbJj8GWXwagEs3JQPW9A%3D%3D?uid=1627832421&filename=%23%D0%A3%D0%A1%D0%9B%D0%AB%D0%A8%D0%AC%D0%9C%D0%95%D0%9D%D0%AF%20%D0%93%D0%BB%D1%83%D1%85%D0%B0%D1%8F%20%D0%9C%D0%BE%D1%81%D0%BA%D0%B2%D0%B0.%20%D0%A1%20%D1%81%D1%83%D0%B1%D1%82%D0%B8%D1%82%D1%80%D0%B0%D0%BC%D0%B8.mp4&disposition=inline&hash=&limit=0&content_type=image%2Fjpeg&owner_uid=1627832421&tknv=v2&size=S&crop=0', 'comment_ids': <CommentIDsObject{'private_resource': '388729034:48b6e76c909e31a9a7ee0c4370742f077d496cfa2fd5fb67dd2550a4e63cf6a1', 'public_resource': '388729034:48b6e76c909e31a9a7ee0c4370742f077d496cfa2fd5fb67dd2550a4e63cf6a1'}>, 'type': 'file', 'media_type': 'video', 'md5': '79d41eda029f11270506034a293d7ef7', 'revision': 1730182050348291}>"
      ]
     },
     "execution_count": 19,
     "metadata": {},
     "output_type": "execute_result"
    }
   ],
   "source": [
    "files[0]"
   ]
  },
  {
   "cell_type": "code",
   "execution_count": null,
   "metadata": {},
   "outputs": [
    {
     "data": {
      "text/plain": [
       "<SyncResourceObject{'antivirus_status': 'clean', 'file': 'https://downloader.disk.yandex.ru/disk/3bea05942eb37b4a815d6f7d523a7397669b953cfbc85cf281433e7f00f57ac1/6726b710/coZdVrom3SVDBmKpHCqXcKWSlinjDe-7NQmwqvnVD-ooAPxLmJoH_LdJWKBPnZgSdTfuyQNxtKdA1WdsbjY2GQ%3D%3D?uid=1627832421&filename=%23%D0%A3%D0%A1%D0%9B%D0%AB%D0%A8%D0%AC%D0%9C%D0%95%D0%9D%D0%AF%20%D0%93%D0%BB%D1%83%D1%85%D0%B0%D1%8F%20%D0%9C%D0%BE%D1%81%D0%BA%D0%B2%D0%B0.%20%D0%A1%20%D1%81%D1%83%D0%B1%D1%82%D0%B8%D1%82%D1%80%D0%B0%D0%BC%D0%B8.mp4&disposition=attachment&hash=&limit=0&content_type=video%2Fmp4&owner_uid=1627832421&fsize=44299500&hid=ea01fa8cb9fa21f738ebba19de20352b&media_type=video&tknv=v2&etag=79d41eda029f11270506034a293d7ef7', 'size': 44299500, 'public_key': None, 'sha256': '34120c9f4351a6425c75696d70f6fed793ab74719f8d5c014a9bdfa1a291e35a', 'embedded': None, 'name': '#УСЛЫШЬМЕНЯ Глухая Москва. С субтитрами.mp4', 'exif': <EXIFObject{'date_time': datetime.datetime(2023, 4, 29, 16, 18, 1, tzinfo=datetime.timezone.utc), 'gps_longitude': None, 'gps_latitude': None}>, 'resource_id': '388729034:48b6e76c909e31a9a7ee0c4370742f077d496cfa2fd5fb67dd2550a4e63cf6a1', 'custom_properties': None, 'public_url': None, 'share': <ShareInfoObject{'is_root': False, 'is_owned': False, 'rights': 'r'}>, 'modified': datetime.datetime(2024, 10, 29, 6, 7, 29, tzinfo=datetime.timezone.utc), 'created': datetime.datetime(2024, 10, 29, 6, 7, 29, tzinfo=datetime.timezone.utc), 'photoslice_time': datetime.datetime(2023, 4, 29, 16, 18, 1, tzinfo=datetime.timezone.utc), 'mime_type': 'video/mp4', 'path': 'disk:/SLR Project/#УСЛЫШЬМЕНЯ Глухая Москва. С субтитрами.mp4', 'preview': 'https://downloader.disk.yandex.ru/preview/781c5ec301620c6d57660c279392a0e1caef553f96db79030d440b190cc6e0ad/inf/HgMa6wwegySt4NcQa82JzZGfCXcTRYsn4GgHVC_eq_3iNsoczWGe18Eo8pWFAe7m_nxbJj8GWXwagEs3JQPW9A%3D%3D?uid=1627832421&filename=%23%D0%A3%D0%A1%D0%9B%D0%AB%D0%A8%D0%AC%D0%9C%D0%95%D0%9D%D0%AF%20%D0%93%D0%BB%D1%83%D1%85%D0%B0%D1%8F%20%D0%9C%D0%BE%D1%81%D0%BA%D0%B2%D0%B0.%20%D0%A1%20%D1%81%D1%83%D0%B1%D1%82%D0%B8%D1%82%D1%80%D0%B0%D0%BC%D0%B8.mp4&disposition=inline&hash=&limit=0&content_type=image%2Fjpeg&owner_uid=1627832421&tknv=v2&size=S&crop=0', 'comment_ids': <CommentIDsObject{'private_resource': '388729034:48b6e76c909e31a9a7ee0c4370742f077d496cfa2fd5fb67dd2550a4e63cf6a1', 'public_resource': '388729034:48b6e76c909e31a9a7ee0c4370742f077d496cfa2fd5fb67dd2550a4e63cf6a1'}>, 'type': 'file', 'media_type': 'video', 'md5': '79d41eda029f11270506034a293d7ef7', 'revision': 1730182050348291}>"
      ]
     },
     "execution_count": 23,
     "metadata": {},
     "output_type": "execute_result"
    }
   ],
   "source": [
    "client.get_meta(files[0]['path'])"
   ]
  }
 ],
 "metadata": {
  "kernelspec": {
   "display_name": "Python 3",
   "language": "python",
   "name": "python3"
  },
  "language_info": {
   "codemirror_mode": {
    "name": "ipython",
    "version": 3
   },
   "file_extension": ".py",
   "mimetype": "text/x-python",
   "name": "python",
   "nbconvert_exporter": "python",
   "pygments_lexer": "ipython3",
   "version": "3.10.11"
  }
 },
 "nbformat": 4,
 "nbformat_minor": 2
}
