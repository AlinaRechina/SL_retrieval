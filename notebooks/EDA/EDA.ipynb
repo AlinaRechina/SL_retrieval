{
 "cells": [
  {
   "cell_type": "markdown",
   "metadata": {},
   "source": [
    "### Считывание данных"
   ]
  },
  {
   "cell_type": "code",
   "execution_count": 1,
   "metadata": {},
   "outputs": [],
   "source": [
    "import yadisk # https://pypi.org/project/yadisk/\n",
    "import os\n",
    "import httpx\n",
    "from dotenv import load_dotenv"
   ]
  },
  {
   "cell_type": "code",
   "execution_count": 2,
   "metadata": {},
   "outputs": [],
   "source": [
    "load_dotenv()\n",
    "TOKEN = os.getenv('DEBUG_TOKEN')"
   ]
  },
  {
   "cell_type": "code",
   "execution_count": 3,
   "metadata": {},
   "outputs": [],
   "source": [
    "client = yadisk.Client(token=TOKEN)"
   ]
  },
  {
   "cell_type": "code",
   "execution_count": 4,
   "metadata": {},
   "outputs": [
    {
     "name": "stdout",
     "output_type": "stream",
     "text": [
      "True\n",
      "375\n"
     ]
    }
   ],
   "source": [
    "with client:\n",
    "    # Проверяет, валиден ли токен\n",
    "    print(client.check_token())\n",
    "\n",
    "    # Выводит содержимое \"disk:/SLR Project\"\n",
    "    files = list(client.listdir(\"disk:/SLR Project\"))\n",
    "    print(len(files))"
   ]
  },
  {
   "cell_type": "markdown",
   "metadata": {},
   "source": [
    "### Получим базовое представление о датасете"
   ]
  },
  {
   "cell_type": "code",
   "execution_count": 5,
   "metadata": {},
   "outputs": [],
   "source": [
    "import cv2 # https://docs.opencv.org/4.x/d1/dc5/tutorial_background_subtraction.html\n",
    "import numpy as np # в него можно завернуть frames\n",
    "from tqdm import tqdm\n",
    "import random\n",
    "random.seed(42)"
   ]
  },
  {
   "cell_type": "code",
   "execution_count": 6,
   "metadata": {},
   "outputs": [],
   "source": [
    "def read_and_explore(path_on_disk, path_to_save):\n",
    "    client.download(path_on_disk, path_to_save) # скачиваем файл\n",
    "    cap = cv2.VideoCapture(path_to_save) # читаем файл\n",
    "\n",
    "    # frames = [] # моя память не тянет хранить все фреймы одного видео\n",
    "    frames = 0\n",
    "    while cap.isOpened():\n",
    "        ret, frame = cap.read()\n",
    "        frames += 1\n",
    "        if frame is None:\n",
    "            break\n",
    "\n",
    "    cap.release() # закрываем файл\n",
    "    os.remove(path_to_save) # удаляем файл\n",
    "\n",
    "    return frames # len(frames) # можно ещё что-то в этих frames посмотреть"
   ]
  },
  {
   "cell_type": "code",
   "execution_count": 11,
   "metadata": {},
   "outputs": [
    {
     "name": "stdout",
     "output_type": "stream",
     "text": [
      "disk:/SLR Project/#УСЛЫШЬМЕНЯ Глухая Москва. С субтитрами.mp4 #УСЛЫШЬМЕНЯ Глухая Москва. С субтитрами.mp4\n",
      "5220\n"
     ]
    }
   ],
   "source": [
    "print(files[0]['path'], files[0]['path'].split('/')[-1])\n",
    "print(read_and_explore(files[0]['path'], files[0]['path'].split('/')[-1]))"
   ]
  },
  {
   "cell_type": "code",
   "execution_count": 7,
   "metadata": {},
   "outputs": [
    {
     "name": "stderr",
     "output_type": "stream",
     "text": [
      "  0%|          | 0/50 [00:00<?, ?it/s]"
     ]
    },
    {
     "name": "stderr",
     "output_type": "stream",
     "text": [
      "100%|██████████| 50/50 [37:04<00:00, 44.49s/it]\n"
     ]
    }
   ],
   "source": [
    "random.shuffle(files)\n",
    "frame_counts = [] \n",
    "for file in tqdm(files[:50]):\n",
    "    frame_num = read_and_explore(files[0]['path'], files[0]['path'].split('/')[-1])\n",
    "    frame_counts.append(frame_num)"
   ]
  },
  {
   "cell_type": "code",
   "execution_count": 9,
   "metadata": {},
   "outputs": [
    {
     "data": {
      "text/plain": [
       "array([8001, 8001, 8001, 8001, 8001, 8001, 8001, 8001, 8001, 8001, 8001,\n",
       "       8001, 8001, 8001, 8001, 8001, 8001, 8001, 8001, 8001, 8001, 8001,\n",
       "       8001, 8001, 8001, 8001, 8001, 8001, 8001, 8001, 8001, 8001, 8001,\n",
       "       8001, 8001, 8001, 8001, 8001, 8001, 8001, 8001, 8001, 8001, 8001,\n",
       "       8001, 8001, 8001, 8001, 8001, 8001])"
      ]
     },
     "execution_count": 9,
     "metadata": {},
     "output_type": "execute_result"
    }
   ],
   "source": [
    "frame_counts"
   ]
  }
 ],
 "metadata": {
  "kernelspec": {
   "display_name": "Python 3",
   "language": "python",
   "name": "python3"
  },
  "language_info": {
   "codemirror_mode": {
    "name": "ipython",
    "version": 3
   },
   "file_extension": ".py",
   "mimetype": "text/x-python",
   "name": "python",
   "nbconvert_exporter": "python",
   "pygments_lexer": "ipython3",
   "version": "3.10.11"
  }
 },
 "nbformat": 4,
 "nbformat_minor": 2
}
